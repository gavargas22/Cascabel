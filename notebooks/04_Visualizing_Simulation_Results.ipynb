{
 "cells": [
  {
   "cell_type": "markdown",
   "id": "2e9666d3",
   "metadata": {},
   "source": [
    "# Visualizing Simulation Results\n",
    "\n",
    "This notebook demonstrates how to visualize and analyze simulation outputs.\n",
    "\n",
    "## Setup"
   ]
  },
  {
   "cell_type": "code",
   "execution_count": 4,
   "id": "289e66a4",
   "metadata": {},
   "outputs": [],
   "source": [
    "import sys\n",
    "sys.path.append('C:\\\\Users\\\\gavargas\\\\Developer\\\\Cascabel')"
   ]
  },
  {
   "cell_type": "code",
   "execution_count": 5,
   "id": "db5f8d22",
   "metadata": {},
   "outputs": [],
   "source": [
    "import matplotlib.pyplot as plt\n",
    "import pandas as pd\n",
    "import numpy as np\n",
    "from cascabel.models.waitline import WaitLine\n",
    "from cascabel.models.simulation import Simulation\n",
    "from cascabel.models.models import BorderCrossingConfig, SimulationConfig\n",
    "\n",
    "# Set up plotting style\n",
    "plt.style.use('seaborn-v0_8')\n",
    "plt.rcParams['figure.figsize'] = (12, 8)"
   ]
  },
  {
   "cell_type": "markdown",
   "id": "a137d033",
   "metadata": {},
   "source": [
    "## Run a Simulation for Analysis"
   ]
  },
  {
   "cell_type": "code",
   "execution_count": 7,
   "id": "f116b5cf",
   "metadata": {},
   "outputs": [
    {
     "name": "stdout",
     "output_type": "stream",
     "text": [
      "executing multi-queue border crossing simulation...\n",
      "Simulation completed. Final statistics: simulation_config=SimulationConfig(max_simulation_time=3600.0, time_factor=1.0, enable_telemetry=True, enable_position_tracking=True) border_config=BorderCrossingConfig(num_queues=3, nodes_per_queue=[2, 2, 2], arrival_rate=2.0, service_rates=[0.8, 0.9, 0.7, 0.85, 0.75, 0.9], queue_assignment='shortest', safe_distance=8.0, max_queue_length=50) execution_stats=BorderCrossingStats(total_arrivals=9, total_completions=9, current_time=3600.0, num_queues=3, total_service_nodes=6, queue_assignment_strategy='shortest', overall_utilization=0.0, average_waiting_time=None, average_service_time=None, throughput=0.15) queue_stats=[QueueStats(queue_id=0, total_cars=3, queue_length=0, busy_nodes=0, num_service_nodes=2, utilization=0.0, average_wait_time=0.0, total_arrivals=3, total_completions=0), QueueStats(queue_id=1, total_cars=3, queue_length=0, busy_nodes=0, num_service_nodes=2, utilization=0.0, average_wait_time=0.0, total_arrivals=3, total_completions=0), QueueStats(queue_id=2, total_cars=3, queue_length=0, busy_nodes=0, num_service_nodes=2, utilization=0.0, average_wait_time=0.0, total_arrivals=3, total_completions=0)] node_stats=[ServiceNodeStats(node_id='q0_n0', queue_id=0, service_rate=0.8, total_served=3, total_service_time=277.0, utilization=1.0, average_service_time=92.33333333333333), ServiceNodeStats(node_id='q0_n1', queue_id=0, service_rate=0.9, total_served=0, total_service_time=0.0, utilization=0.0, average_service_time=0.0), ServiceNodeStats(node_id='q1_n0', queue_id=1, service_rate=0.7, total_served=3, total_service_time=237.0, utilization=0.9216666666666666, average_service_time=79.0), ServiceNodeStats(node_id='q1_n1', queue_id=1, service_rate=0.85, total_served=0, total_service_time=0.0, utilization=0.0, average_service_time=0.0), ServiceNodeStats(node_id='q2_n0', queue_id=2, service_rate=0.75, total_served=3, total_service_time=125.0, utilization=0.5208333333333334, average_service_time=41.666666666666664), ServiceNodeStats(node_id='q2_n1', queue_id=2, service_rate=0.9, total_served=0, total_service_time=0.0, utilization=0.0, average_service_time=0.0)] total_positions_recorded=18070 total_telemetry_records=0 simulation_duration=3600.0 completed_at=datetime.datetime(2025, 9, 28, 1, 5, 36, 14923)\n"
     ]
    }
   ],
   "source": [
    "# Quick simulation setup\n",
    "waitline = WaitLine(\n",
    "    geojson_path=\"C:\\\\Users\\\\gavargas\\\\Developer\\\\Cascabel\\\\cascabel\\\\paths\\\\usa2mx\\\\bota.geojson\",\n",
    "    speed_regime={\"slow\": 0.8, \"fast\": 0.2},\n",
    "    line_length_seed=0.5\n",
    ")\n",
    "\n",
    "border_config = BorderCrossingConfig(\n",
    "    num_queues=3,\n",
    "    nodes_per_queue=[2, 2, 2],\n",
    "    arrival_rate=2.0,\n",
    "    service_rates=[0.8, 0.9, 0.7, 0.85, 0.75, 0.9],\n",
    "    queue_assignment='shortest',\n",
    "    safe_distance=8.0,\n",
    "    max_queue_length=50\n",
    ")\n",
    "\n",
    "simulation_config = SimulationConfig(\n",
    "    max_simulation_time=3600.0,\n",
    "    time_factor=1.0,\n",
    "    enable_telemetry=True,\n",
    "    enable_position_tracking=True\n",
    ")\n",
    "\n",
    "simulation = Simulation(\n",
    "    waitline=waitline,\n",
    "    border_config=border_config,\n",
    "    simulation_config=simulation_config\n",
    ")\n",
    "\n",
    "simulation()\n",
    "stats = simulation.get_statistics()"
   ]
  },
  {
   "cell_type": "markdown",
   "id": "a844fe28",
   "metadata": {},
   "source": [
    "## Queue Length Over Time"
   ]
  },
  {
   "cell_type": "code",
   "execution_count": 14,
   "id": "098f304f",
   "metadata": {},
   "outputs": [
    {
     "data": {
      "text/plain": [
       "0.0"
      ]
     },
     "execution_count": 14,
     "metadata": {},
     "output_type": "execute_result"
    }
   ],
   "source": [
    "stats.queue_stats[0].average_wait_time"
   ]
  },
  {
   "cell_type": "code",
   "execution_count": 8,
   "id": "4b04af43",
   "metadata": {},
   "outputs": [
    {
     "ename": "AttributeError",
     "evalue": "'QueueStats' object has no attribute 'snapshots'",
     "output_type": "error",
     "traceback": [
      "\u001b[31m---------------------------------------------------------------------------\u001b[39m",
      "\u001b[31mAttributeError\u001b[39m                            Traceback (most recent call last)",
      "\u001b[36mCell\u001b[39m\u001b[36m \u001b[39m\u001b[32mIn[8]\u001b[39m\u001b[32m, line 5\u001b[39m\n\u001b[32m      2\u001b[39m fig, ax = plt.subplots()\n\u001b[32m      4\u001b[39m \u001b[38;5;28;01mfor\u001b[39;00m i, queue_stats \u001b[38;5;129;01min\u001b[39;00m \u001b[38;5;28menumerate\u001b[39m(stats.queue_stats):\n\u001b[32m----> \u001b[39m\u001b[32m5\u001b[39m     times = [s.timestamp \u001b[38;5;28;01mfor\u001b[39;00m s \u001b[38;5;129;01min\u001b[39;00m \u001b[43mqueue_stats\u001b[49m\u001b[43m.\u001b[49m\u001b[43msnapshots\u001b[49m]\n\u001b[32m      6\u001b[39m     lengths = [s.length \u001b[38;5;28;01mfor\u001b[39;00m s \u001b[38;5;129;01min\u001b[39;00m queue_stats.snapshots]\n\u001b[32m      7\u001b[39m     ax.plot(times, lengths, label=\u001b[33mf\u001b[39m\u001b[33m'\u001b[39m\u001b[33mQueue \u001b[39m\u001b[38;5;132;01m{\u001b[39;00mi+\u001b[32m1\u001b[39m\u001b[38;5;132;01m}\u001b[39;00m\u001b[33m'\u001b[39m)\n",
      "\u001b[36mFile \u001b[39m\u001b[32mc:\\Users\\gavargas\\Developer\\Cascabel\\.venv\\Lib\\site-packages\\pydantic\\main.py:991\u001b[39m, in \u001b[36mBaseModel.__getattr__\u001b[39m\u001b[34m(self, item)\u001b[39m\n\u001b[32m    988\u001b[39m     \u001b[38;5;28;01mreturn\u001b[39;00m \u001b[38;5;28msuper\u001b[39m().\u001b[34m__getattribute__\u001b[39m(item)  \u001b[38;5;66;03m# Raises AttributeError if appropriate\u001b[39;00m\n\u001b[32m    989\u001b[39m \u001b[38;5;28;01melse\u001b[39;00m:\n\u001b[32m    990\u001b[39m     \u001b[38;5;66;03m# this is the current error\u001b[39;00m\n\u001b[32m--> \u001b[39m\u001b[32m991\u001b[39m     \u001b[38;5;28;01mraise\u001b[39;00m \u001b[38;5;167;01mAttributeError\u001b[39;00m(\u001b[33mf\u001b[39m\u001b[33m'\u001b[39m\u001b[38;5;132;01m{\u001b[39;00m\u001b[38;5;28mtype\u001b[39m(\u001b[38;5;28mself\u001b[39m).\u001b[34m__name__\u001b[39m\u001b[38;5;132;01m!r}\u001b[39;00m\u001b[33m object has no attribute \u001b[39m\u001b[38;5;132;01m{\u001b[39;00mitem\u001b[38;5;132;01m!r}\u001b[39;00m\u001b[33m'\u001b[39m)\n",
      "\u001b[31mAttributeError\u001b[39m: 'QueueStats' object has no attribute 'snapshots'"
     ]
    },
    {
     "data": {
      "image/png": "[encoded data removed]",
      "text/plain": [
       "<Figure size 1200x800 with 1 Axes>"
      ]
     },
     "metadata": {},
     "output_type": "display_data"
    }
   ],
   "source": [
    "# Plot queue lengths\n",
    "fig, ax = plt.subplots()\n",
    "\n",
    "for i, queue_stats in enumerate(stats.queue_stats):\n",
    "    times = [s.timestamp for s in queue_stats.snapshots]\n",
    "    lengths = [s.length for s in queue_stats.snapshots]\n",
    "    ax.plot(times, lengths, label=f'Queue {i+1}')\n",
    "\n",
    "ax.set_xlabel('Time (seconds)')\n",
    "ax.set_ylabel('Queue Length')\n",
    "ax.set_title('Queue Length Over Time')\n",
    "ax.legend()\n",
    "ax.grid(True)\n",
    "plt.show()"
   ]
  },
  {
   "cell_type": "markdown",
   "id": "d32d941a",
   "metadata": {},
   "source": [
    "## Service Utilization"
   ]
  },
  {
   "cell_type": "code",
   "execution_count": null,
   "id": "8ec5a1ef",
   "metadata": {},
   "outputs": [],
   "source": [
    "# Plot utilization per service node\n",
    "fig, ax = plt.subplots()\n",
    "\n",
    "nodes = []\n",
    "utilizations = []\n",
    "\n",
    "for i, queue_stats in enumerate(stats.queue_stats):\n",
    "    for j, node_stats in enumerate(queue_stats.node_stats):\n",
    "        nodes.append(f'Q{i+1}-N{j+1}')\n",
    "        utilizations.append(node_stats.utilization)\n",
    "\n",
    "ax.bar(nodes, utilizations)\n",
    "ax.set_ylabel('Utilization')\n",
    "ax.set_title('Service Node Utilization')\n",
    "ax.tick_params(axis='x', rotation=45)\n",
    "\n",
    "for i, v in enumerate(utilizations):\n",
    "    ax.text(i, v + 0.01, f'{v:.1%}', ha='center')\n",
    "\n",
    "plt.tight_layout()\n",
    "plt.show()"
   ]
  },
  {
   "cell_type": "markdown",
   "id": "fbc523ca",
   "metadata": {},
   "source": [
    "## Wait Time Distribution"
   ]
  },
  {
   "cell_type": "code",
   "execution_count": null,
   "id": "f9ff4b15",
   "metadata": {},
   "outputs": [],
   "source": [
    "# Plot wait time histogram\n",
    "fig, ax = plt.subplots()\n",
    "\n",
    "wait_times = [completion.wait_time for completion in stats.execution_stats.completions]\n",
    "\n",
    "ax.hist(wait_times, bins=30, alpha=0.7, edgecolor='black')\n",
    "ax.set_xlabel('Wait Time (seconds)')\n",
    "ax.set_ylabel('Frequency')\n",
    "ax.set_title('Distribution of Wait Times')\n",
    "ax.axvline(np.mean(wait_times), color='red', linestyle='--', label=f'Mean: {np.mean(wait_times):.1f}s')\n",
    "ax.legend()\n",
    "\n",
    "plt.show()\n",
    "\n",
    "print(f\"Average wait time: {np.mean(wait_times):.2f} seconds\")\n",
    "print(f\"Median wait time: {np.median(wait_times):.2f} seconds\")\n",
    "print(f\"95th percentile: {np.percentile(wait_times, 95):.2f} seconds\")"
   ]
  },
  {
   "cell_type": "markdown",
   "id": "546f73fb",
   "metadata": {},
   "source": [
    "## Geographic Path Visualization"
   ]
  },
  {
   "cell_type": "code",
   "execution_count": null,
   "id": "9406191f",
   "metadata": {},
   "outputs": [],
   "source": [
    "# Plot the geographic path\n",
    "fig, ax = plt.subplots()\n",
    "\n",
    "# Extract coordinates from waitline\n",
    "lats = [point[1] for point in waitline.path]\n",
    "lons = [point[0] for point in waitline.path]\n",
    "\n",
    "ax.plot(lons, lats, 'b-', linewidth=2, label='Border Crossing Path')\n",
    "ax.scatter(lons[0], lats[0], c='green', s=100, label='Start')\n",
    "ax.scatter(lons[-1], lats[-1], c='red', s=100, label='End')\n",
    "\n",
    "ax.set_xlabel('Longitude')\n",
    "ax.set_ylabel('Latitude')\n",
    "ax.set_title('Border Crossing Path')\n",
    "ax.legend()\n",
    "ax.grid(True)\n",
    "\n",
    "plt.show()"
   ]
  }
 ],
 "metadata": {
  "kernelspec": {
   "display_name": "cascabel",
   "language": "python",
   "name": "python3"
  },
  "language_info": {
   "codemirror_mode": {
    "name": "ipython",
    "version": 3
   },
   "file_extension": ".py",
   "mimetype": "text/x-python",
   "name": "python",
   "nbconvert_exporter": "python",
   "pygments_lexer": "ipython3",
   "version": "3.13.2"
  }
 },
 "nbformat": 4,
 "nbformat_minor": 5
}
