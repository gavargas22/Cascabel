{
 "cells": [
  {
   "cell_type": "markdown",
   "id": "5d4dece5",
   "metadata": {},
   "source": [
    "# Introduction to Cascabel: Border Crossing Simulation\n",
    "\n",
    "Welcome to Cascabel, a sophisticated simulation tool for modeling traffic queues at border crossings. This notebook series will guide you through understanding and experimenting with the application.\n",
    "\n",
    "## What is Cascabel?\n",
    "\n",
    "Cascabel simulates car traffic at border bridges between countries, such as the US-Mexico border. It uses:\n",
    "\n",
    "- **Queue Theory**: M/M/1 and multi-queue models for realistic arrival and service patterns\n",
    "- **Physics-Based Movement**: Cars with acceleration, velocity limits, and safe distances\n",
    "- **Realistic Telemetry**: GPS, accelerometer, and gyroscope data generation\n",
    "- **Geographic Paths**: Based on real border crossing geometries\n",
    "\n",
    "## Key Features\n",
    "\n",
    "- REST API for simulation management\n",
    "- Real-time WebSocket streaming\n",
    "- CSV telemetry export\n",
    "- Multiple border crossing support\n",
    "- Configurable phone sensor parameters\n",
    "\n",
    "## How It Works\n",
    "\n",
    "1. Cars arrive according to a Poisson process\n",
    "2. They join queues at the border\n",
    "3. Service occurs at booths with exponential service times\n",
    "4. Cars move along geographic paths with physics\n",
    "5. Telemetry data is generated as if from a phone in the car\n",
    "\n",
    "This notebook series will help you:\n",
    "- Set up and run your first simulation\n",
    "- Understand the underlying models\n",
    "- Analyze and visualize results\n",
    "- Experiment with different parameters\n",
    "- Work with telemetry data"
   ]
  }
 ],
 "metadata": {
  "language_info": {
   "name": "python"
  }
 },
 "nbformat": 4,
 "nbformat_minor": 5
}
