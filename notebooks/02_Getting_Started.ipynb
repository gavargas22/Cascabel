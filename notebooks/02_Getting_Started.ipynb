{
 "cells": [
  {
   "cell_type": "markdown",
   "id": "2cf4fa21",
   "metadata": {},
   "source": [
    "# Getting Started with Cascabel\n",
    "\n",
    "This notebook will help you set up and run your first simulation.\n",
    "\n",
    "## Prerequisites\n",
    "\n",
    "- Python 3.8+\n",
    "- uv package manager\n",
    "- Git\n",
    "\n",
    "## Installation\n",
    "\n",
    "1. Clone the repository\n",
    "2. Install dependencies with uv"
   ]
  },
  {
   "cell_type": "code",
   "execution_count": null,
   "id": "af3aea66",
   "metadata": {},
   "outputs": [],
   "source": [
    "# Check if uv is installed\n",
    "import subprocess\n",
    "result = subprocess.run(['uv', '--version'], capture_output=True, text=True)\n",
    "if result.returncode == 0:\n",
    "    print(\"uv is installed:\", result.stdout.strip())\n",
    "else:\n",
    "    print(\"uv is not installed. Please install it from https://github.com/astral-sh/uv\")"
   ]
  },
  {
   "cell_type": "markdown",
   "id": "51a4e6e0",
   "metadata": {},
   "source": [
    "## Install Dependencies"
   ]
  },
  {
   "cell_type": "code",
   "execution_count": null,
   "id": "5893553a",
   "metadata": {},
   "outputs": [],
   "source": [
    "# Install dependencies\n",
    "!uv pip install -r requirements.txt"
   ]
  },
  {
   "cell_type": "markdown",
   "id": "8b11aaa8",
   "metadata": {},
   "source": [
    "## Running the API\n",
    "\n",
    "The API provides endpoints to start and monitor simulations."
   ]
  },
  {
   "cell_type": "code",
   "execution_count": null,
   "id": "9dbdc411",
   "metadata": {},
   "outputs": [],
   "source": [
    "# Start the API server (this will run in background)\n",
    "import subprocess\n",
    "import time\n",
    "\n",
    "# Note: In a real scenario, run this in a terminal\n",
    "# For demo, we'll simulate\n",
    "print(\"To start the API, run: uv run python scripts/run_api.py\")\n",
    "print(\"API will be available at http://localhost:8000\")\n",
    "print(\"Docs at http://localhost:8000/docs\")"
   ]
  },
  {
   "cell_type": "markdown",
   "id": "0c8a40da",
   "metadata": {},
   "source": [
    "## Your First Simulation\n",
    "\n",
    "Let's run a basic simulation using the API."
   ]
  },
  {
   "cell_type": "code",
   "execution_count": null,
   "id": "27c14f0d",
   "metadata": {},
   "outputs": [],
   "source": [
    "import requests\n",
    "import json\n",
    "\n",
    "# Simulation configuration\n",
    "config = {\n",
    "    \"border_config\": {\n",
    "        \"num_queues\": 1,\n",
    "        \"nodes_per_queue\": [1],\n",
    "        \"arrival_rate\": 0.5,  # cars per minute\n",
    "        \"service_rates\": [0.8],  # service rate per booth\n",
    "        \"queue_assignment\": \"shortest\",\n",
    "        \"safe_distance\": 8.0,\n",
    "        \"max_queue_length\": 50\n",
    "    },\n",
    "    \"simulation_config\": {\n",
    "        \"max_simulation_time\": 3600.0,  # 1 hour\n",
    "        \"time_factor\": 1.0,\n",
    "        \"enable_telemetry\": True,\n",
    "        \"enable_position_tracking\": True\n",
    "    },\n",
    "    \"phone_config\": {\n",
    "        \"sampling_rate\": 10.0\n",
    "    },\n",
    "    \"geojson_path\": \"cascabel/paths/usa2mx/bota.geojson\"\n",
    "}\n",
    "\n",
    "# Start simulation\n",
    "response = requests.post(\"http://localhost:8000/simulate\", json=config)\n",
    "if response.status_code == 200:\n",
    "    sim_id = response.json()[\"simulation_id\"]\n",
    "    print(f\"Simulation started with ID: {sim_id}\")\n",
    "else:\n",
    "    print(\"Failed to start simulation. Make sure the API is running.\")"
   ]
  },
  {
   "cell_type": "markdown",
   "id": "1ee7e370",
   "metadata": {},
   "source": [
    "## Check Simulation Status"
   ]
  },
  {
   "cell_type": "code",
   "execution_count": null,
   "id": "2a812838",
   "metadata": {},
   "outputs": [],
   "source": [
    "# Check status (assuming sim_id is set)\n",
    "if 'sim_id' in locals():\n",
    "    status_response = requests.get(f\"http://localhost:8000/simulation/{sim_id}/status\")\n",
    "    print(status_response.json())\n",
    "else:\n",
    "    print(\"No simulation running\")"
   ]
  }
 ],
 "metadata": {
  "language_info": {
   "name": "python"
  }
 },
 "nbformat": 4,
 "nbformat_minor": 5
}
