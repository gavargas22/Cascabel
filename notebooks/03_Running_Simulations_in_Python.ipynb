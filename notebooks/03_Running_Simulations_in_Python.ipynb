{
 "cells": [
  {
   "cell_type": "markdown",
   "id": "f06507e9",
   "metadata": {},
   "source": [
    "# Running Simulations Directly in Python\n",
    "\n",
    "This notebook shows how to run simulations directly in Python without the API.\n",
    "\n",
    "## Import Required Modules"
   ]
  },
  {
   "cell_type": "code",
   "execution_count": null,
   "id": "0828a0a8",
   "metadata": {},
   "outputs": [],
   "source": [
    "from cascabel.models.waitline import WaitLine\n",
    "from cascabel.models.simulation import Simulation\n",
    "from cascabel.models.models import BorderCrossingConfig, SimulationConfig, PhoneConfig\n",
    "import matplotlib.pyplot as plt\n",
    "import pandas as pd"
   ]
  },
  {
   "cell_type": "markdown",
   "id": "f59b9abd",
   "metadata": {},
   "source": [
    "## Create a WaitLine\n",
    "\n",
    "The WaitLine represents the geographic path that cars follow."
   ]
  },
  {
   "cell_type": "code",
   "execution_count": null,
   "id": "98eb61c1",
   "metadata": {},
   "outputs": [],
   "source": [
    "# Create waitline from GeoJSON\n",
    "waitline = WaitLine(\n",
    "    geojson_path=\"cascabel/paths/usa2mx/bota.geojson\",\n",
    "    speed_regime={\"slow\": 0.8, \"fast\": 0.2},\n",
    "    line_length_seed=0.5\n",
    ")\n",
    "\n",
    "print(f\"WaitLine created with {len(waitline.path)} points\")\n",
    "print(f\"Total length: {waitline.total_length:.2f} meters\")"
   ]
  },
  {
   "cell_type": "markdown",
   "id": "5db380d6",
   "metadata": {},
   "source": [
    "## Configure the Border Crossing\n",
    "\n",
    "Set up queues, arrival rates, service rates, etc."
   ]
  },
  {
   "cell_type": "code",
   "execution_count": null,
   "id": "97ca46b9",
   "metadata": {},
   "outputs": [],
   "source": [
    "# Configure border crossing\n",
    "border_config = BorderCrossingConfig(\n",
    "    num_queues=2,  # 2 lanes\n",
    "    nodes_per_queue=[1, 1],  # 1 booth per lane\n",
    "    arrival_rate=1.0,  # 1 car per minute\n",
    "    service_rates=[0.8, 0.9],  # service rates for each booth\n",
    "    queue_assignment='shortest',  # assign to shortest queue\n",
    "    safe_distance=8.0,  # meters between cars\n",
    "    max_queue_length=50\n",
    ")\n",
    "\n",
    "print(\"Border config:\")\n",
    "print(f\"- {border_config.num_queues} queues\")\n",
    "print(f\"- Arrival rate: {border_config.arrival_rate} cars/min\")\n",
    "print(f\"- Service rates: {border_config.service_rates}\")"
   ]
  },
  {
   "cell_type": "markdown",
   "id": "d23c75b4",
   "metadata": {},
   "source": [
    "## Configure the Simulation"
   ]
  },
  {
   "cell_type": "code",
   "execution_count": null,
   "id": "40e31519",
   "metadata": {},
   "outputs": [],
   "source": [
    "# Simulation configuration\n",
    "simulation_config = SimulationConfig(\n",
    "    max_simulation_time=1800.0,  # 30 minutes\n",
    "    time_factor=1.0,\n",
    "    enable_telemetry=True,\n",
    "    enable_position_tracking=True\n",
    ")\n",
    "\n",
    "# Phone configuration for telemetry\n",
    "phone_config = PhoneConfig(\n",
    "    sampling_rate=5.0,  # Hz\n",
    "    accelerometer_noise=0.01,\n",
    "    gyroscope_noise=0.001,\n",
    "    gps_accuracy=5.0  # meters\n",
    ")"
   ]
  },
  {
   "cell_type": "markdown",
   "id": "8b97b813",
   "metadata": {},
   "source": [
    "## Run the Simulation"
   ]
  },
  {
   "cell_type": "code",
   "execution_count": null,
   "id": "dd3a7100",
   "metadata": {},
   "outputs": [],
   "source": [
    "# Create simulation\n",
    "simulation = Simulation(\n",
    "    waitline=waitline,\n",
    "    border_config=border_config,\n",
    "    simulation_config=simulation_config,\n",
    "    phone_config=phone_config\n",
    ")\n",
    "\n",
    "# Run simulation\n",
    "print(\"Running simulation...\")\n",
    "simulation()\n",
    "print(\"Simulation completed!\")"
   ]
  },
  {
   "cell_type": "markdown",
   "id": "1451e719",
   "metadata": {},
   "source": [
    "## Get Results"
   ]
  },
  {
   "cell_type": "code",
   "execution_count": null,
   "id": "40c0198d",
   "metadata": {},
   "outputs": [],
   "source": [
    "# Get statistics\n",
    "stats = simulation.get_statistics()\n",
    "\n",
    "print(\"\\n=== Simulation Results ===\")\n",
    "print(f\"Duration: {stats.simulation_duration:.0f} seconds\")\n",
    "print(f\"Total arrivals: {stats.execution_stats.total_arrivals}\")\n",
    "print(f\"Total completions: {stats.execution_stats.total_completions}\")\n",
    "print(f\"Average queue length: {stats.execution_stats.average_queue_length:.2f}\")\n",
    "print(f\"Average wait time: {stats.execution_stats.average_wait_time:.2f} seconds\")\n",
    "print(f\"Utilization: {stats.execution_stats.overall_utilization:.1%}\")"
   ]
  }
 ],
 "metadata": {
  "language_info": {
   "name": "python"
  }
 },
 "nbformat": 4,
 "nbformat_minor": 5
}
